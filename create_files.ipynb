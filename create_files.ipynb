{
  "cells": [
    {
      "cell_type": "code",
      "execution_count": null,
      "metadata": {
        "id": "vi0WgmdKA5xw"
      },
      "outputs": [],
      "source": [
        "!apt-get install openjdk-8-jdk-headless -qq > /dev/nullb\n",
        "!wget -q http://archive.apache.org/dist/spark/spark-3.1.1/spark-3.1.1-bin-hadoop3.2.tgz\n",
        "!tar xf spark-3.1.1-bin-hadoop3.2.tgz\n",
        "!pip install -q findspark"
      ]
    },
    {
      "cell_type": "code",
      "execution_count": null,
      "metadata": {
        "id": "hsMtTyl8h_Uo"
      },
      "outputs": [],
      "source": [
        "import os\n",
        "\n",
        "os.environ[\"JAVA_HOME\"] = \"/usr/lib/jvm/java-8-openjdk-amd64\"\n",
        "os.environ[\"SPARK_HOME\"] = \"/content/spark-3.1.1-bin-hadoop3.2\"\n",
        "import findspark\n",
        "\n",
        "findspark.init()\n",
        "from pyspark.sql import SparkSession\n",
        "\n",
        "spark = SparkSession.builder.master(\"local[*]\").getOrCreate()\n",
        "spark.conf.set(\"spark.sql.repl.eagerEval.enabled\", True)"
      ]
    },
    {
      "cell_type": "code",
      "execution_count": null,
      "metadata": {
        "id": "-B_F1RN9B31J"
      },
      "outputs": [],
      "source": [
        "!pip install pdoc3\n",
        "!pip install country_list\n",
        "!pip install countryinfo\n",
        "\n",
        "import random\n",
        "import uuid\n",
        "import string\n",
        "import pyspark.sql.types as T\n",
        "import pyspark.sql.functions as F\n",
        "import countryinfo\n",
        "import country_list\n",
        "import hashlib\n",
        "from  datetime import date\n",
        "from  datetime import datetime\n",
        "from  datetime import timedelta\n",
        "import logging\n",
        "from google.colab import drive\n",
        "\n",
        "drive.mount(\"/content/gdrive\")\n",
        "\n",
        "logger = logging.getLogger()\n",
        "logging.basicConfig(\n",
        "      filename = \"mylog.log\",\n",
        "      format = \"%(asctime)s - %(levelname)s - %(funcName)s: %(lineno)d - %(message)s\",\n",
        "      datefmt='%H:%M:%S',\n",
        "    )"
      ]
    },
    {
      "cell_type": "code",
      "source": [
        "countries = list(country_list.countries_for_language(\"en\"))"
      ],
      "metadata": {
        "id": "s6W-pxqBJ_kl"
      },
      "execution_count": null,
      "outputs": []
    },
    {
      "cell_type": "code",
      "source": [
        "def generation_value(count: int = 10):\n",
        "    \"\"\"Генерация числа.\n",
        "\n",
        "    Parameters:\n",
        "        count: int\n",
        "              Количество цифр в числе.\n",
        "\n",
        "    Returns:\n",
        "        string:\n",
        "              Сгенерированное число.\n",
        "    \"\"\"\n",
        "\n",
        "    return \"\".join(random.choices(string.digits, k=count))"
      ],
      "metadata": {
        "id": "SQvHWOKWJ-Qb"
      },
      "execution_count": null,
      "outputs": []
    },
    {
      "cell_type": "code",
      "source": [
        "print(generation_value.__doc__)"
      ],
      "metadata": {
        "colab": {
          "base_uri": "https://localhost:8080/"
        },
        "id": "jHYbitS63mbF",
        "outputId": "33098046-19d6-4d17-8219-ae0d32786d6d"
      },
      "execution_count": null,
      "outputs": [
        {
          "output_type": "stream",
          "name": "stdout",
          "text": [
            "Генерация числа.\n",
            "\n",
            "    Parameters:\n",
            "        count: int\n",
            "              Количество цифр в числе.\n",
            "\n",
            "    Returns:\n",
            "        string:\n",
            "              Сгенерированное число.\n",
            "    \n"
          ]
        }
      ]
    },
    {
      "cell_type": "code",
      "source": [
        "pdoc generation_value"
      ],
      "metadata": {
        "id": "ednd7TPP4ZpN"
      },
      "execution_count": null,
      "outputs": []
    },
    {
      "cell_type": "markdown",
      "source": [
        "# Новый раздел"
      ],
      "metadata": {
        "id": "Qepda_tu6DTO"
      }
    },
    {
      "cell_type": "code",
      "execution_count": null,
      "metadata": {
        "id": "VCx853gvB3yh"
      },
      "outputs": [],
      "source": [
        "def generate_rows_table(count: int = 1,\n",
        "                    timestampcolumn: datetime = date.today()):\n",
        "    \"\"\"Генерация строк таблицы.\n",
        "\n",
        "    Parameters:\n",
        "        count: int\n",
        "              Количество строк.\n",
        "        timestampcolumn: datetime\n",
        "              Дата в колонке 'timestampcolumn'.\n",
        "\n",
        "    Returns:\n",
        "        list_cookies: list\n",
        "              Возвращает массив списков, представляющий собой строку таблицы.\n",
        "    \"\"\"\n",
        "    list_cookies = list()\n",
        "    for _ in range(count):\n",
        "        # генерация cookies\n",
        "        inn = generation_value(12)\n",
        "\n",
        "        _sa_cookie_a = {\n",
        "            \"key\": \"_sa_cookie_a\",\n",
        "            \"value\": f\"SA1.{uuid.uuid4()}.{generation_value(10)}\"\n",
        "        }\n",
        "\n",
        "        _fa_cookie_a = {\n",
        "            \"key\": \"_fa_cookie_a\",\n",
        "            \"value\": f\"ads2.{generation_value(10)}.{generation_value(10)}\"\n",
        "        }\n",
        "\n",
        "        _ym_cookie_c = {\n",
        "            \"key\": \"_ym_cookie_c\",\n",
        "            \"value\": {''.join(generation_value(20))}\n",
        "        }\n",
        "\n",
        "        _fbp = {\n",
        "            \"key\": \"_fbp\",\n",
        "            \"value\": f\"fb.{random.choice(string.digits)}.\"\n",
        "                         f\"{generation_value(13)}.\"\n",
        "                         f\"{generation_value(9)}\"\n",
        "        }\n",
        "\n",
        "        org_uid = {\n",
        "            \"key\": \"org_uid\",\n",
        "            \"value\": f\"{generation_value(7)}\"\n",
        "        }\n",
        "\n",
        "        user_uid = {\n",
        "            \"key\": \"user_uid\",\n",
        "            \"value\": f\"{generation_value(7)}\"\n",
        "        }\n",
        "\n",
        "        user_phone = {\n",
        "            \"key\": \"user_phone\",\n",
        "            \"value\": f\"79{generation_value(2)}\"\n",
        "                     f\"{generation_value(3)}\"\n",
        "                     f\"{generation_value(2)}\"\n",
        "                     f\"{generation_value(2)}\"\n",
        "        }\n",
        "\n",
        "        user_mail = {\n",
        "            \"key\": \"user_mail\",\n",
        "            \"value\": f\"\"\"{\"\".join(random.choices(string.ascii_letters +\n",
        "                             string.digits, k=10))}@user.io\"\"\"\n",
        "        }\n",
        "\n",
        "        # генерация event_type\n",
        "        event_type = random.choice([\"SUBMIT\", \"REGISTER\", \"SUBMIT_MD5\"])\n",
        "\n",
        "        # генерация event_action\n",
        "        event_action = random.choice([\"pageview\", \"event\", \"login-check-otp\"])\n",
        "\n",
        "        # генерация data_value\n",
        "        if event_type == \"SUBMIT\":\n",
        "            data_value = hashlib.sha256(bytes(inn, encoding=\"utf-8\")).hexdigest()\n",
        "        elif event_type == \"SUBMIT_MD5\":\n",
        "            data_value = hashlib.md5(bytes(inn, encoding=\"utf-8\")).hexdigest()\n",
        "        else:\n",
        "            data_value = None\n",
        "\n",
        "        # генерация страный, города и геопозиции\n",
        "        while True:\n",
        "            try:\n",
        "                geocountry = random.choice(countries)\n",
        "                country = countryinfo.CountryInfo(geocountry[1])\n",
        "                city = country.capital()\n",
        "                geoaltitude = \",\".join(map(str, country.latlng()))\n",
        "                break\n",
        "            except KeyError as e:\n",
        "                logger.error(f\"В списке 'country' отсутствует значение {str(e)}\")\n",
        "\n",
        "        # Генерация meta_platform\n",
        "        meta_platform = random.choice([\"WEB\", \"MOBAIL\"])\n",
        "\n",
        "        # Генерация user_os\n",
        "        if meta_platform == \"WEB\":\n",
        "            user_os = random.choice([\"Mac\", \"Windows\", \"Ubuntu\"])\n",
        "        else:\n",
        "            user_os = random.choice([\"IOS\", \"Android\", \"HarmonyOS\", \"BlackBerryOS\"])\n",
        "        # Генерация systemlanguage\n",
        "        systemlanguage = random.choice([\"RU\", \"ENG\"])\n",
        "\n",
        "        # Генерация screensize\n",
        "        screensize = \"1920x1080\"\n",
        "\n",
        "        # Добавление спосков в единый список\n",
        "        list_cookies.append([\n",
        "            inn,\n",
        "            [_sa_cookie_a, _fa_cookie_a, _ym_cookie_c, _fbp,\n",
        "            org_uid, user_uid, user_phone, user_mail],\n",
        "            event_type,\n",
        "            event_action,\n",
        "            data_value,\n",
        "            geocountry[1],\n",
        "            city,\n",
        "            user_os,\n",
        "            systemlanguage,\n",
        "            geoaltitude,\n",
        "            meta_platform,\n",
        "            screensize,\n",
        "            timestampcolumn\n",
        "                             ])\n",
        "    return list_cookies"
      ]
    },
    {
      "cell_type": "code",
      "execution_count": null,
      "metadata": {
        "id": "OP8_wNZV9jAq"
      },
      "outputs": [],
      "source": [
        "# схема данных\n",
        "schema = T.StructType([\n",
        "    T.StructField(\"inn\", T.StringType(), True),\n",
        "    T.StructField(\"raw_cookie\", T.ArrayType(T.MapType(T.StringType(),\n",
        "                                                      T.StringType()))),\n",
        "    T.StructField(\"event_type\", T.StringType(), True),\n",
        "    T.StructField(\"event_action\", T.StringType(), True),\n",
        "    T.StructField(\"data_value\", T.StringType(), True),\n",
        "    T.StructField(\"geocountry\", T.StringType(), True),\n",
        "    T.StructField(\"city\", T.StringType(), True),\n",
        "    T.StructField(\"user_os\", T.StringType(), True),\n",
        "    T.StructField(\"systemlanguage\", T.StringType(), True),\n",
        "    T.StructField(\"geoaltitude\", T.StringType(), True),\n",
        "    T.StructField(\"meta_platform\", T.StringType(), True),\n",
        "    T.StructField(\"screensize\", T.StringType(), True),\n",
        "    T.StructField(\"timestampcolumn\", T.DateType(), True)\n",
        "                       ])"
      ]
    },
    {
      "cell_type": "code",
      "source": [
        "# Цикл генерирует каталоги с файлами в формате JSON согласно партиционирования\n",
        "current_date = date.today()\n",
        "folder = \"/content/gdrive/MyDrive/data/json/\"\n",
        "if not os.path.isdir(folder):\n",
        "    os.makedirs(folder)\n",
        "i = 0\n",
        "while i < 10:\n",
        "    for _ in range(random.randrange(5, 10)):\n",
        "        df = spark.createDataFrame(generate_rows_table(30, current_date),\n",
        "                                   schema=schema)\n",
        "        df.coalesce(1).write.mode(\"append\") \\\n",
        "            .json(f\"{folder}{current_date.strftime('%Y_%m_%d')}\")\n",
        "\n",
        "    current_date = current_date + timedelta(1)\n",
        "    i = i + 1"
      ],
      "metadata": {
        "id": "fV4aDEDk7X0X"
      },
      "execution_count": null,
      "outputs": []
    },
    {
      "cell_type": "code",
      "source": [
        "! rm -r /content/gdrive/MyDrive/data/json/"
      ],
      "metadata": {
        "id": "2w0QipPAVB5U"
      },
      "execution_count": null,
      "outputs": []
    },
    {
      "cell_type": "code",
      "source": [
        "df = spark.createDataFrame(generate_rows_table(2000, current_date),schema=schema)\n",
        "df.write.mode(\"append\").json(f\"{folder}\")"
      ],
      "metadata": {
        "id": "7Cpc5qdCVZdx"
      },
      "execution_count": null,
      "outputs": []
    }
  ],
  "metadata": {
    "colab": {
      "provenance": []
    },
    "kernelspec": {
      "display_name": "Python 3",
      "name": "python3"
    },
    "language_info": {
      "name": "python"
    }
  },
  "nbformat": 4,
  "nbformat_minor": 0
}