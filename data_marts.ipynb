{
  "nbformat": 4,
  "nbformat_minor": 0,
  "metadata": {
    "colab": {
      "provenance": []
    },
    "kernelspec": {
      "name": "python3",
      "display_name": "Python 3"
    },
    "language_info": {
      "name": "python"
    }
  },
  "cells": [
    {
      "cell_type": "code",
      "execution_count": null,
      "metadata": {
        "colab": {
          "base_uri": "https://localhost:8080/"
        },
        "id": "kbMp9JeNr3W3",
        "outputId": "4e3b8d99-4da1-4d4d-832f-c700cc28fb8d"
      },
      "outputs": [
        {
          "output_type": "stream",
          "name": "stdout",
          "text": [
            "Mounted at /content/gdrive\n"
          ]
        }
      ],
      "source": [
        "!apt-get install openjdk-8-jdk-headless -qq > /dev/nullb\n",
        "!wget -q http://archive.apache.org/dist/spark/spark-3.1.1/spark-3.1.1-bin-hadoop3.2.tgz\n",
        "!tar xf spark-3.1.1-bin-hadoop3.2.tgz\n",
        "!pip install -q findspark\n",
        "\n",
        "import os\n",
        "\n",
        "os.environ[\"JAVA_HOME\"] = \"/usr/lib/jvm/java-8-openjdk-amd64\"\n",
        "os.environ[\"SPARK_HOME\"] = \"/content/spark-3.1.1-bin-hadoop3.2\"\n",
        "import findspark\n",
        "\n",
        "findspark.init()\n",
        "from pyspark.sql import SparkSession\n",
        "\n",
        "spark = SparkSession.builder.master(\"local[*]\").getOrCreate()\n",
        "spark.conf.set(\"spark.sql.repl.eagerEval.enabled\", True)\n",
        "\n",
        "import pyspark.sql.types as T\n",
        "import pyspark.sql.functions as F\n",
        "from pyspark.sql import Window\n",
        "from google.colab import drive\n",
        "\n",
        "drive.mount(\"/content/gdrive\")"
      ]
    },
    {
      "cell_type": "code",
      "source": [
        "schema = T.StructType([\n",
        "    T.StructField(\"inn\", T.StringType(), True),\n",
        "    T.StructField(\"raw_cookie\", T.ArrayType(T.MapType(T.StringType(),\n",
        "                                                      T.StringType()))),\n",
        "    T.StructField(\"event_type\", T.StringType(), True),\n",
        "    T.StructField(\"event_action\", T.StringType(), True),\n",
        "    T.StructField(\"data_value\", T.StringType(), True),\n",
        "    T.StructField(\"geocountry\", T.StringType(), True),\n",
        "    T.StructField(\"city\", T.StringType(), True),\n",
        "    T.StructField(\"user_os\", T.StringType(), True),\n",
        "    T.StructField(\"systemlanguage\", T.StringType(), True),\n",
        "    T.StructField(\"geoaltitude\", T.StringType(), True),\n",
        "    T.StructField(\"meta_platform\", T.StringType(), True),\n",
        "    T.StructField(\"screensize\", T.StringType(), True),\n",
        "    T.StructField(\"timestampcolumn\", T.DateType(), True)\n",
        "                       ])"
      ],
      "metadata": {
        "id": "A3-xk_4GtliO"
      },
      "execution_count": null,
      "outputs": []
    },
    {
      "cell_type": "code",
      "source": [
        "PATH_TO_FILES = \"/content/gdrive/MyDrive/data/json/\"\n",
        "DICT_MATCH_CODE = {\"IOS\": \"IDFA\", \"Android\": \"GAID\"}\n",
        "filenames = sorted(os.listdir(PATH_TO_FILES), reverse=True)"
      ],
      "metadata": {
        "id": "g1TscL0F9et3"
      },
      "execution_count": null,
      "outputs": []
    },
    {
      "cell_type": "code",
      "source": [
        "def read_file_json(file_name, schema_json_file):\n",
        " return spark.read.format(\"json\") \\\n",
        "            .load(f\"{file_name}\", schema=schema_json_file)"
      ],
      "metadata": {
        "id": "_GeutqQwGcQz"
      },
      "execution_count": null,
      "outputs": []
    },
    {
      "cell_type": "code",
      "source": [
        "def union_and_dropduplicate(df1, df2):\n",
        "    return (df1.union(df2).withColumn('rank', F.rank()\n",
        "    .over(Window.partitionBy('inn')\n",
        "    .orderBy(F.desc('timestampcolumn'))))\n",
        "                          .filter('rank = 1')\n",
        "                          .drop('rank'))\n"
      ],
      "metadata": {
        "id": "CxBuFtIaHc7c"
      },
      "execution_count": null,
      "outputs": []
    },
    {
      "cell_type": "code",
      "source": [
        "def initial_data(schema_json_file: T.StructType, count: int = len(filenames)):\n",
        "    blank_df = spark.createDataFrame([], schema=schema_json_file)\n",
        "    for i in filenames[:count]:\n",
        "        json_file = read_file_json(f\"{PATH_TO_FILES}{i}\", schema_json_file)\n",
        "        blank_df = union_and_dropduplicate(blank_df, json_file)\n",
        "    return blank_df"
      ],
      "metadata": {
        "id": "KBzWZvy89hcI"
      },
      "execution_count": null,
      "outputs": []
    },
    {
      "cell_type": "code",
      "source": [
        "def search_values_from_maptype(col_name, key):\n",
        "    return F.expr(f\"filter({col_name}, x -> x.key='{key}')\")[0][\"value\"]"
      ],
      "metadata": {
        "id": "kb_4YgQt9jsv"
      },
      "execution_count": null,
      "outputs": []
    },
    {
      "cell_type": "code",
      "source": [
        "@F.udf\n",
        "def match_code(x):\n",
        "    return DICT_MATCH_CODE.get(x, None)"
      ],
      "metadata": {
        "id": "lMNHOpT0t5Rn"
      },
      "execution_count": null,
      "outputs": []
    },
    {
      "cell_type": "code",
      "source": [
        "initial_data_df = initial_data(schema).select(\"*\")"
      ],
      "metadata": {
        "id": "ir-kSJHMAvvA"
      },
      "execution_count": null,
      "outputs": []
    },
    {
      "cell_type": "code",
      "source": [
        "data_mart_a = initial_data_df.drop('inn')\n",
        "data_mart_a.show(5, truncate=False)"
      ],
      "metadata": {
        "id": "CSbxNorf37KO"
      },
      "execution_count": null,
      "outputs": []
    },
    {
      "cell_type": "code",
      "source": [
        "# Создать цикл счтывания DF по датам. удалять дубликать на объединении дней, удалять cookie по INN\n",
        "\n",
        "data_mart_b = initial_data_df.select(\n",
        "    F.row_number().over(\n",
        "        Window.orderBy(\n",
        "            F.col('inn').desc()\n",
        "            )\n",
        "        ).alias(\"id\"),\n",
        "        \"inn\"\n",
        "  )\n",
        "data_mart_b.show(5)\n"
      ],
      "metadata": {
        "id": "SIpT6r7-sWd6"
      },
      "execution_count": null,
      "outputs": []
    },
    {
      "cell_type": "code",
      "source": [
        "data_mart_c = initial_data_df.select(\n",
        "  (F.monotonically_increasing_id() + 1).alias(\"id\"),\n",
        "  search_values_from_maptype(\"raw_cookie\", \"_sa_cookie_a\").alias(\"sa_cookie_a\"))\n",
        "data_mart_c.show(5)"
      ],
      "metadata": {
        "id": "PR30cADbAdVK"
      },
      "execution_count": null,
      "outputs": []
    },
    {
      "cell_type": "code",
      "source": [
        "data_mart_d = initial_data_df.select(\n",
        "    (F.monotonically_increasing_id() + 1).alias(\"id\"),\n",
        "    \"inn\"\n",
        ")\n",
        "data_mart_d.show(5, truncate=False)"
      ],
      "metadata": {
        "id": "x4K2MsRlgPVX"
      },
      "execution_count": null,
      "outputs": []
    },
    {
      "cell_type": "code",
      "source": [
        "data_mart_e = initial_data_df.select(\n",
        "    (F.monotonically_increasing_id() + 1).alias(\"ID\"),\n",
        "    F.md5(search_values_from_maptype(\"raw_cookie\", \"user_phone\"))\n",
        "      .alias(\"hash_phone_md5\")\n",
        ")\n",
        "\n",
        "data_mart_e.show(5, truncate=False)\n"
      ],
      "metadata": {
        "id": "mXrVR0JEAmJl"
      },
      "execution_count": null,
      "outputs": []
    },
    {
      "cell_type": "code",
      "source": [
        "data_mart_f = initial_data_df.select(\n",
        "    (F.monotonically_increasing_id() + 1).alias(\"ID\"),\n",
        "    F.md5(search_values_from_maptype(\"raw_cookie\", \"user_mail\"))\n",
        "      .alias(\"hash_email_md5\")\n",
        ")\n",
        "\n",
        "data_mart_f.show(5, truncate=False)"
      ],
      "metadata": {
        "id": "rSbigp1cDpQJ"
      },
      "execution_count": null,
      "outputs": []
    },
    {
      "cell_type": "code",
      "source": [
        "data_mart_g = initial_data_df.select(\n",
        "    (F.monotonically_increasing_id() + 1).alias(\"ID\"),\n",
        "    search_values_from_maptype(\"raw_cookie\", \"user_uid\")\n",
        "      .alias(\"user_uid\"),\n",
        "    match_code(\"user_os\").alias(\"match_code\")\n",
        ")\n",
        "\n",
        "data_mart_g.show(5, truncate=False)"
      ],
      "metadata": {
        "id": "mTYoxBswyKio"
      },
      "execution_count": null,
      "outputs": []
    },
    {
      "cell_type": "code",
      "source": [
        "main_marts = (\n",
        "    data_mart_a.select('raw_cookie','data_value').alias(\"df_a\")\n",
        "    .join(\n",
        "        data_mart_d.alias(\"df_d\"),\n",
        "        on=(\n",
        "            (F.md5(F.col(\"df_d.inn\")) == F.col(\"df_a.data_value\")) |\n",
        "            (F.sha2(F.col(\"df_d.inn\"), 256) == F.col(\"df_a.data_value\"))\n",
        "            ),\n",
        "        how='right'\n",
        "      )\n",
        "    .join(\n",
        "        data_mart_b.alias(\"df_b\"),\n",
        "        on=(\n",
        "            (F.md5(F.col(\"df_b.inn\")) == F.col(\"df_a.data_value\")) |\n",
        "            (F.sha2(F.col(\"df_b.inn\"), 256) == F.col(\"df_a.data_value\"))\n",
        "           ),\n",
        "        how=\"left\"\n",
        "      )\n",
        "    .join(\n",
        "        data_mart_e.alias(\"df_e\"),\n",
        "        on = (\n",
        "           F.md5(search_values_from_maptype(\"raw_cookie\",\n",
        "                                \"user_phone\")) == F.col(\"df_e.hash_phone_md5\")),\n",
        "        how =\"left\"\n",
        "      )\n",
        "    .join(\n",
        "        data_mart_f.alias('df_f'),\n",
        "        on = (\n",
        "            F.md5(search_values_from_maptype(\"raw_cookie\",\n",
        "                                 \"user_mail\")) == F.col(\"df_f.hash_email_md5\")),\n",
        "        how = \"left\"\n",
        "      )\n",
        "    .join(\n",
        "        data_mart_g.alias(\"df_g\"),\n",
        "        on = (\n",
        "              search_values_from_maptype(\"raw_cookie\",\n",
        "                                         \"user_uid\") == F.col(\"df_g.user_uid\")),\n",
        "        how = \"left\"\n",
        "      )\n",
        "    .join(\n",
        "        data_mart_c.alias('df_c'),\n",
        "        on = (search_values_from_maptype(\"raw_cookie\",\n",
        "                                  \"_sa_cookie_a\") == F.col(\"df_c.sa_cookie_a\")),\n",
        "        how = \"left\"\n",
        "      )\n",
        "    .select(F.col(\"df_g.user_uid\"),\n",
        "            F.col(\"df_d.inn\").alias(\"inn\"),\n",
        "            F.col(\"df_a.data_value\").alias(\"inn_hash\"),\n",
        "            F.col(\"df_e.hash_phone_md5\"),\n",
        "            F.col(\"df_f.hash_email_md5\"),\n",
        "            search_values_from_maptype(\"raw_cookie\",\n",
        "                                       \"user_phone\").alias(\"user_phone\"),\n",
        "            search_values_from_maptype(\"raw_cookie\",\n",
        "                                       \"user_mail\").alias(\"user_email\"),\n",
        "            search_values_from_maptype(\"raw_cookie\",\n",
        "                                       \"org_uid\").alias(\"org_uid\"),\n",
        "            F.col(\"df_d.id\").alias(\"id_d\"),\n",
        "            F.col(\"df_c.id\").alias(\"id_c\"),\n",
        "            F.col(\"df_b.id\").alias(\"id_b\"),\n",
        "            F.col(\"df_e.id\").alias(\"id_e\"),\n",
        "            F.col(\"df_f.id\").alias(\"id_f\"),\n",
        "            F.col(\"df_g.id\").alias(\"id_g\"),\n",
        "            F.array(\n",
        "                search_values_from_maptype(\"raw_cookie\", \"_sa_cookie_a\"),\n",
        "                search_values_from_maptype(\"raw_cookie\", \"_fa_cookie_a\"),\n",
        "                search_values_from_maptype(\"raw_cookie\", \"_ym_cookie_c\"),\n",
        "                search_values_from_maptype(\"raw_cookie\", \"_fbp\")\n",
        "            ).alias(\"array_coockie\")\n",
        "     )\n",
        ")\n",
        "main_marts.show(10, truncate=False)"
      ],
      "metadata": {
        "id": "m4T6VeL8diO6"
      },
      "execution_count": null,
      "outputs": []
    }
  ]
}